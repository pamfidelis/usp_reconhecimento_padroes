{
 "cells": [
  {
   "cell_type": "code",
   "execution_count": 43,
   "metadata": {},
   "outputs": [],
   "source": [
    "import pandas as pd\n",
    "import csv\n",
    "from sklearn.preprocessing import StandardScaler \n",
    "from sklearn.preprocessing import Normalizer \n",
    "from sklearn.decomposition import PCA \n",
    "from matplotlib import pyplot as plt\n",
    "\n",
    "\n",
    "SOURCE_PATH = 'dataset/dataprep.csv'\n",
    "TARGET_PATH = 'pca_novo.csv'\n",
    "\n",
    "df = pd.read_csv(SOURCE_PATH, low_memory=False)\n",
    "# para mostrar toda a base\n",
    "pd.set_option('display.max_columns', None)\n",
    "df = df.loc[:, ~df.columns.str.contains('^Unnamed')]\n",
    "\n",
    "df[['latitude', 'longitude']] = StandardScaler().fit_transform(df[['latitude', 'longitude']])\n",
    "\n",
    "features = [\"age_young\", \"age_adult\", \"age_elderly\", \"latitude\",\"longitude\",\"lives_in_Wuhan\",\"chronic_disease_binary\",\"travel\",\"symptoms\"] \n",
    "features = pd.DataFrame(df[features])\n",
    "\n",
    "\n",
    "\n",
    "df_final = pd.DataFrame(df['outcome'])\n",
    "\n",
    "#df_final = df_final.append(features)\n",
    "\n",
    "#df_final\n",
    "features.to_csv('dataset/pca.csv')\n",
    "\n"
   ]
  },
  {
   "cell_type": "code",
   "execution_count": null,
   "metadata": {},
   "outputs": [],
   "source": [
    "x = features.values \n",
    "y = df.loc[:,['outcome']].values \n",
    "\n",
    "x = StandardScaler().fit_transform(x) \n",
    "pca = PCA(n_components = 2) \n",
    "principalComponents = pca.fit_transform(x) \n",
    "principalDf = pd.DataFrame(data = principalComponents, columns = ['principalcomponent1' , 'principalcomponent2']) \n",
    "finalDf = pd.concat([principalDf, df[['outcome']]], axis = 1) \n",
    "fig = plt.figure(figsize = (8,8)) \n",
    "ax = fig.add_subplot(1,1,1)  \n",
    "ax.set_xlabel('principalcomponent 1', fontsize = 15) \n",
    "ax.set_ylabel('principalcomponent 2', fontsize = 15) \n",
    "ax.set_title('2 components PCA', fontsize = 20) \n",
    "targets = [0, 1] \n",
    "colors = ['r', 'g'] \n",
    "for target, color in zip(targets,colors):    \n",
    "    indicesToKeep = finalDf['outcome'] == target \n",
    "    ax.scatter(finalDf.loc[indicesToKeep, 'principalcomponent1'], finalDf.loc[indicesToKeep, 'principalcomponent2'], c = color, s = 50) \n",
    "ax.legend(targets) \n",
    "ax.grid()\n"
   ]
  }
 ],
 "metadata": {
  "kernelspec": {
   "display_name": "Python 3",
   "language": "python",
   "name": "python3"
  },
  "language_info": {
   "codemirror_mode": {
    "name": "ipython",
    "version": 3
   },
   "file_extension": ".py",
   "mimetype": "text/x-python",
   "name": "python",
   "nbconvert_exporter": "python",
   "pygments_lexer": "ipython3",
   "version": "3.6.9"
  }
 },
 "nbformat": 4,
 "nbformat_minor": 4
}
